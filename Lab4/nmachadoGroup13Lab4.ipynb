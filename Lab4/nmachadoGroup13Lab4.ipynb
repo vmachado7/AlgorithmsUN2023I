{
  "cells": [
    {
      "cell_type": "markdown",
      "metadata": {
        "id": "N1ok_-56OjB1"
      },
      "source": [
        "# I Solving the Sum of Two Digits Programming Challenge"
      ]
    },
    {
      "cell_type": "markdown",
      "metadata": {
        "id": "MMY7kmDSO0KM"
      },
      "source": [
        "## C++"
      ]
    },
    {
      "cell_type": "code",
      "execution_count": null,
      "metadata": {
        "colab": {
          "base_uri": "https://localhost:8080/"
        },
        "id": "2pGGf9BkPNIk",
        "outputId": "a2353aa2-3490-4f6e-9890-18354bdb078b"
      },
      "outputs": [
        {
          "name": "stdout",
          "output_type": "stream",
          "text": [
            "Writing APlusB.cpp\n"
          ]
        }
      ],
      "source": [
        "%%writefile APlusB.cpp\n",
        "#include <iostream>\n",
        "\n",
        "int sum_of_two_digits(int first_digit, int second_digit) {\n",
        "    return first_digit + second_digit;\n",
        "}\n",
        "\n",
        "int main() {\n",
        "    int a = 0;\n",
        "    int b = 0;\n",
        "    std::cin >> a;\n",
        "    std::cin >> b;\n",
        "    std::cout << sum_of_two_digits(a, b);\n",
        "    return 0;\n",
        "}"
      ]
    },
    {
      "cell_type": "code",
      "execution_count": null,
      "metadata": {
        "colab": {
          "base_uri": "https://localhost:8080/"
        },
        "id": "0G3ZKOYAPXSU",
        "outputId": "168606e3-daa1-4024-b361-30fe1e01b034"
      },
      "outputs": [
        {
          "name": "stdout",
          "output_type": "stream",
          "text": [
            "^C\n"
          ]
        }
      ],
      "source": [
        "!g++ APlusB.cpp -o APlusB\n",
        "!./APlusB"
      ]
    },
    {
      "cell_type": "markdown",
      "metadata": {
        "id": "iNkG2HqfTl9c"
      },
      "source": [
        "### Test input output files"
      ]
    },
    {
      "cell_type": "code",
      "execution_count": null,
      "metadata": {
        "colab": {
          "base_uri": "https://localhost:8080/"
        },
        "id": "aTzU2efzMxly",
        "outputId": "aa254a61-1152-42b5-a11e-a3981f96d972"
      },
      "outputs": [
        {
          "name": "stdout",
          "output_type": "stream",
          "text": [
            "Writing input1.txt\n"
          ]
        }
      ],
      "source": [
        "%%writefile input1.txt\n",
        "4 8"
      ]
    },
    {
      "cell_type": "markdown",
      "metadata": {
        "id": "pdkfsvs-T0Wr"
      },
      "source": []
    },
    {
      "cell_type": "code",
      "execution_count": null,
      "metadata": {
        "colab": {
          "base_uri": "https://localhost:8080/"
        },
        "id": "zBJ0Gc0NQRet",
        "outputId": "67219fb3-7e55-40af-8ee4-deada7384695"
      },
      "outputs": [
        {
          "name": "stdout",
          "output_type": "stream",
          "text": [
            "Writing output1.txt\n"
          ]
        }
      ],
      "source": [
        "%%writefile output1.txt\n",
        "12"
      ]
    },
    {
      "cell_type": "code",
      "execution_count": null,
      "metadata": {
        "colab": {
          "base_uri": "https://localhost:8080/"
        },
        "id": "IjEcIx63PJAN",
        "outputId": "3240ee72-df71-4592-8cb0-57fc8d1a7453"
      },
      "outputs": [
        {
          "name": "stdout",
          "output_type": "stream",
          "text": [
            "Writing input2.txt\n"
          ]
        }
      ],
      "source": [
        "%%writefile input2.txt\n",
        "-5 9"
      ]
    },
    {
      "cell_type": "code",
      "execution_count": null,
      "metadata": {
        "colab": {
          "base_uri": "https://localhost:8080/"
        },
        "id": "Up9gOrxURTmd",
        "outputId": "856b79e0-46b1-4c93-d4fa-eb0f3db7847d"
      },
      "outputs": [
        {
          "name": "stdout",
          "output_type": "stream",
          "text": [
            "Writing output2.txt\n"
          ]
        }
      ],
      "source": [
        "%%writefile output2.txt\n",
        "4"
      ]
    },
    {
      "cell_type": "code",
      "execution_count": null,
      "metadata": {
        "colab": {
          "base_uri": "https://localhost:8080/"
        },
        "id": "PST6G-s-Pwgc",
        "outputId": "1ffae13c-98c4-47d0-b3ef-317e4a855ec0"
      },
      "outputs": [
        {
          "name": "stdout",
          "output_type": "stream",
          "text": [
            "12"
          ]
        }
      ],
      "source": [
        "!./APlusB < input1.txt"
      ]
    },
    {
      "cell_type": "code",
      "execution_count": null,
      "metadata": {
        "colab": {
          "base_uri": "https://localhost:8080/"
        },
        "id": "cKxZOjSlRfIN",
        "outputId": "a132b940-176c-43fb-dc88-9d1b7a8b2607"
      },
      "outputs": [
        {
          "name": "stdout",
          "output_type": "stream",
          "text": [
            "4"
          ]
        }
      ],
      "source": [
        "!./APlusB < input2.txt"
      ]
    },
    {
      "cell_type": "markdown",
      "metadata": {
        "id": "Qw2TQWCCUwqk"
      },
      "source": [
        "### Comparing files with grep\n",
        "\n",
        "https://askubuntu.com/questions/546796/comparing-two-text-files"
      ]
    },
    {
      "cell_type": "code",
      "execution_count": null,
      "metadata": {
        "id": "WVIaAmMKU4QM"
      },
      "outputs": [],
      "source": [
        "!grep -xvFf output1.txt output1.txt "
      ]
    },
    {
      "cell_type": "code",
      "execution_count": null,
      "metadata": {
        "colab": {
          "base_uri": "https://localhost:8080/"
        },
        "id": "MQU8gPPjQuYO",
        "outputId": "aa7bd22c-a990-4c3e-95a3-245a263f440f"
      },
      "outputs": [
        {
          "name": "stdout",
          "output_type": "stream",
          "text": [
            "4\n"
          ]
        }
      ],
      "source": [
        "!grep -xvFf output1.txt output2.txt "
      ]
    },
    {
      "cell_type": "code",
      "execution_count": null,
      "metadata": {
        "colab": {
          "base_uri": "https://localhost:8080/"
        },
        "id": "jYL9OuYBTD_l",
        "outputId": "971cb7af-db13-4a14-cf6d-a2d00149d320"
      },
      "outputs": [
        {
          "name": "stdout",
          "output_type": "stream",
          "text": [
            "12\n"
          ]
        }
      ],
      "source": [
        "!grep -xvFf output2.txt output1.txt "
      ]
    },
    {
      "cell_type": "code",
      "execution_count": null,
      "metadata": {
        "id": "Jlja0Xm4TX9M"
      },
      "outputs": [],
      "source": [
        "!./APlusB < input1.txt> ctest1.txt\n",
        "!grep -xvFf output1.txt ctest1.txt"
      ]
    },
    {
      "cell_type": "code",
      "execution_count": null,
      "metadata": {
        "id": "g9OIUZA_QLCQ"
      },
      "outputs": [],
      "source": [
        "!./APlusB < input2.txt > ctest2.txt\n",
        "!grep -xvFf output2.txt ctest2.txt"
      ]
    },
    {
      "cell_type": "markdown",
      "metadata": {
        "id": "3BgOaDjUVJk6"
      },
      "source": [
        "## Python"
      ]
    },
    {
      "cell_type": "code",
      "execution_count": null,
      "metadata": {
        "colab": {
          "base_uri": "https://localhost:8080/"
        },
        "id": "DBvl-T0CTN_8",
        "outputId": "a6fb70ad-9db0-452c-bec0-8d5f62be2189"
      },
      "outputs": [
        {
          "name": "stdout",
          "output_type": "stream",
          "text": [
            "Writing sum.py\n"
          ]
        }
      ],
      "source": [
        "%%writefile sum.py\n",
        "# python3\n",
        "\n",
        "def sum_of_two_digits(first_digit, second_digit):\n",
        "    return first_digit + second_digit\n",
        "\n",
        "if __name__ == '__main__':\n",
        "    a, b = map(int, input().split())\n",
        "    print(sum_of_two_digits(a, b))"
      ]
    },
    {
      "cell_type": "code",
      "execution_count": null,
      "metadata": {
        "colab": {
          "base_uri": "https://localhost:8080/"
        },
        "id": "QKoKM11_WGyF",
        "outputId": "e3867fb5-7d40-4ef1-ff1b-66c3135f67cb"
      },
      "outputs": [
        {
          "name": "stdout",
          "output_type": "stream",
          "text": [
            "^C\n",
            "Traceback (most recent call last):\n",
            "  File \"sum.py\", line 7, in <module>\n",
            "    a, b = map(int, input().split())\n",
            "KeyboardInterrupt\n"
          ]
        }
      ],
      "source": [
        "!python sum.py"
      ]
    },
    {
      "cell_type": "code",
      "execution_count": null,
      "metadata": {
        "id": "cocFbPRTWrqt"
      },
      "outputs": [],
      "source": [
        "!python sum.py  < input1.txt> ptest1.txt\n",
        "!grep -xvFf output1.txt ptest1.txt"
      ]
    },
    {
      "cell_type": "code",
      "execution_count": null,
      "metadata": {
        "id": "MorKTa-XXASN"
      },
      "outputs": [],
      "source": [
        "!python sum.py  < input2.txt> ptest2.txt\n",
        "!grep -xvFf output2.txt ptest2.txt"
      ]
    },
    {
      "cell_type": "markdown",
      "metadata": {
        "id": "uvP-mOubW_5F"
      },
      "source": [
        "# II Solving The Maximum Pairwise Product Programming Challenge in C++"
      ]
    },
    {
      "cell_type": "markdown",
      "metadata": {
        "id": "C12yoFR6Xonl"
      },
      "source": [
        "## C++"
      ]
    },
    {
      "cell_type": "code",
      "execution_count": null,
      "metadata": {
        "colab": {
          "base_uri": "https://localhost:8080/"
        },
        "id": "YL4qJX3tXxdd",
        "outputId": "76f550a6-b694-4086-951e-5aa1b3ac3845"
      },
      "outputs": [
        {
          "name": "stdout",
          "output_type": "stream",
          "text": [
            "Writing max_pairwise_product.cpp\n"
          ]
        }
      ],
      "source": [
        "%%writefile max_pairwise_product.cpp\n",
        "#include <iostream>\n",
        "#include <vector>\n",
        "#include <algorithm>\n",
        "\n",
        "int MaxPairwiseProduct(const std::vector<int>& numbers) {\n",
        "    int max_product = 0;\n",
        "    int n = numbers.size();\n",
        "\n",
        "    for (int first = 0; first < n; ++first) {\n",
        "        for (int second = first + 1; second < n; ++second) {\n",
        "            max_product = std::max(max_product,\n",
        "                numbers[first] * numbers[second]);\n",
        "        }\n",
        "    }\n",
        "\n",
        "    return max_product;\n",
        "}\n",
        "\n",
        "int main() {\n",
        "    int n;\n",
        "    std::cin >> n;\n",
        "    std::vector<int> numbers(n);\n",
        "    for (int i = 0; i < n; ++i) {\n",
        "        std::cin >> numbers[i];\n",
        "    }\n",
        "\n",
        "    std::cout << MaxPairwiseProduct(numbers) << \"\\n\";\n",
        "    return 0;\n",
        "}\n"
      ]
    },
    {
      "cell_type": "code",
      "execution_count": null,
      "metadata": {
        "colab": {
          "base_uri": "https://localhost:8080/"
        },
        "id": "KGxaEjvWX__O",
        "outputId": "3f856225-4011-46bf-dab1-05a7c27b2580"
      },
      "outputs": [
        {
          "name": "stdout",
          "output_type": "stream",
          "text": [
            "^C\n"
          ]
        }
      ],
      "source": [
        "!g++ max_pairwise_product.cpp -o max_pairwise_product\n",
        "!./max_pairwise_product"
      ]
    },
    {
      "cell_type": "markdown",
      "metadata": {
        "id": "e7KhxHGNS3i0"
      },
      "source": [
        "### Test 1: Small numbers"
      ]
    },
    {
      "cell_type": "code",
      "execution_count": null,
      "metadata": {
        "colab": {
          "base_uri": "https://localhost:8080/"
        },
        "id": "e1mmTzBgShT-",
        "outputId": "43076bfb-d95a-4ff9-9beb-a7d02ac43c4d"
      },
      "outputs": [
        {
          "name": "stdout",
          "output_type": "stream",
          "text": [
            "Overwriting input1.txt\n"
          ]
        }
      ],
      "source": [
        "%%writefile input1.txt\n",
        "10\n",
        "1 2 3 4 5 6 7 8 9 10"
      ]
    },
    {
      "cell_type": "code",
      "execution_count": null,
      "metadata": {
        "colab": {
          "base_uri": "https://localhost:8080/"
        },
        "id": "vy_uI0x7TCId",
        "outputId": "2783453a-1f2a-4243-f377-e8eee0e53ff5"
      },
      "outputs": [
        {
          "name": "stdout",
          "output_type": "stream",
          "text": [
            "90\n"
          ]
        }
      ],
      "source": [
        "!./max_pairwise_product < input1.txt"
      ]
    },
    {
      "cell_type": "markdown",
      "metadata": {
        "id": "IeZ3kTjpYmR9"
      },
      "source": [
        "### Test 2: largest input numbers 200000 200000 in the input"
      ]
    },
    {
      "cell_type": "code",
      "execution_count": null,
      "metadata": {
        "colab": {
          "base_uri": "https://localhost:8080/"
        },
        "id": "LQNlZqaqYt7U",
        "outputId": "e82f56cd-f988-4ca4-92c8-56b33190da8a"
      },
      "outputs": [
        {
          "name": "stdout",
          "output_type": "stream",
          "text": [
            "Overwriting input2.txt\n"
          ]
        }
      ],
      "source": [
        "%%writefile input2.txt\n",
        "6\n",
        "1 3 200000 9 200000 23"
      ]
    },
    {
      "cell_type": "code",
      "execution_count": null,
      "metadata": {
        "colab": {
          "base_uri": "https://localhost:8080/"
        },
        "id": "2Wad2VZUZDxR",
        "outputId": "53715137-ffce-4884-c4ef-98932df16b39"
      },
      "outputs": [
        {
          "name": "stdout",
          "output_type": "stream",
          "text": [
            "1345294336\n"
          ]
        }
      ],
      "source": [
        "!./max_pairwise_product < input2.txt"
      ]
    },
    {
      "cell_type": "markdown",
      "metadata": {
        "id": "H2SC0Qt5HCzz"
      },
      "source": [
        "Changing the variables to long long"
      ]
    },
    {
      "cell_type": "code",
      "execution_count": null,
      "metadata": {
        "colab": {
          "base_uri": "https://localhost:8080/"
        },
        "id": "MPcmsxiQZSfE",
        "outputId": "1f8fd4f4-fe94-4e27-9801-6780c888c7aa"
      },
      "outputs": [
        {
          "name": "stdout",
          "output_type": "stream",
          "text": [
            "Writing max_pairwise_product_long.cpp\n"
          ]
        }
      ],
      "source": [
        "%%writefile max_pairwise_product_long.cpp\n",
        "#include <iostream>\n",
        "#include <vector>\n",
        "#include <algorithm>\n",
        "\n",
        "long long MaxPairwiseProduct(const std::vector<int>& numbers) {\n",
        "    long long max_product = 0LL;\n",
        "\t  long long aux_product = 0LL;\n",
        "    int n = numbers.size();\n",
        "\n",
        "    for (int first = 0; first < n; ++first) {\n",
        "        for (int second = first + 1; second < n; ++second) {\n",
        "\t\t\t       aux_product =  (long long) numbers[first] * numbers[second];\n",
        "            if ( max_product < aux_product)  {\n",
        "\t\t\t\t        max_product = aux_product;\n",
        "             }\n",
        "        }\n",
        "    }\n",
        "\n",
        "    return max_product;\n",
        "}\n",
        "\n",
        "int main() {\n",
        "    int n;\n",
        "    std::cin >> n;\n",
        "    std::vector<int> numbers(n);\n",
        "    for (int i = 0; i < n; ++i) {\n",
        "        std::cin >> numbers[i];\n",
        "    }\n",
        "\n",
        "    std::cout << MaxPairwiseProduct(numbers) << \"\\n\";\n",
        "    return 0;\n",
        "}\n"
      ]
    },
    {
      "cell_type": "code",
      "execution_count": null,
      "metadata": {
        "colab": {
          "base_uri": "https://localhost:8080/"
        },
        "id": "I5pCeOG1Zm7s",
        "outputId": "857e0e16-cbac-4276-b003-b1f485f21f1f"
      },
      "outputs": [
        {
          "name": "stdout",
          "output_type": "stream",
          "text": [
            "90\n",
            "40000000000\n"
          ]
        }
      ],
      "source": [
        "!g++ max_pairwise_product_long.cpp -o max_pairwise_product_long\n",
        "!./max_pairwise_product_long < input1.txt\n",
        "!./max_pairwise_product_long < input2.txt"
      ]
    },
    {
      "cell_type": "markdown",
      "metadata": {
        "id": "XPVHkHxH6_7s"
      },
      "source": [
        "### Test 3  stress tests 20  times  random n in [2, 20] "
      ]
    },
    {
      "cell_type": "code",
      "execution_count": null,
      "metadata": {
        "id": "PwqpBmYr69fu"
      },
      "outputs": [],
      "source": []
    },
    {
      "cell_type": "markdown",
      "metadata": {
        "id": "9z9yr5QkeyJF"
      },
      "source": [
        "### Test 4  time test  measure the execution time running with the the largest worst case file (200000 increasing numbers, 200000 and 200000 the end) "
      ]
    },
    {
      "cell_type": "code",
      "execution_count": null,
      "metadata": {
        "colab": {
          "base_uri": "https://localhost:8080/"
        },
        "id": "oLiMjbAIfPlX",
        "outputId": "a7589dc3-93ba-410d-cb72-cd05a590a6f3"
      },
      "outputs": [
        {
          "name": "stdout",
          "output_type": "stream",
          "text": [
            "Overwriting Test2Write.cpp\n"
          ]
        }
      ],
      "source": [
        "%%writefile Test2Write.cpp\n",
        "\n",
        "#include <iostream>\n",
        "#include <fstream>\n",
        "#include <cstdlib>\n",
        "\n",
        "using namespace std;\n",
        "\n",
        "int main() {\n",
        "  // Create and open a text file\n",
        "  ofstream MyFile(\"input3.txt\");\n",
        "\n",
        " MyFile << 200000 <<\"\\n\";  // n \n",
        " for (int i=1; i < 200001; i++){\n",
        "     MyFile << i <<\" \";\n",
        " }\n",
        "  \n",
        "  // Close the file\n",
        "  MyFile.close();\n",
        "}"
      ]
    },
    {
      "cell_type": "code",
      "execution_count": null,
      "metadata": {
        "id": "EH25TkOkZfD9"
      },
      "outputs": [],
      "source": [
        "!g++ Test2Write.cpp -o Test2Write\n",
        "!./Test2Write"
      ]
    },
    {
      "cell_type": "markdown",
      "metadata": {
        "id": "JB6f03qO-lj9"
      },
      "source": [
        "Measure time\n",
        "\n",
        "https://askubuntu.com/questions/53444/how-can-i-measure-the-execution-time-of-a-terminal-process"
      ]
    },
    {
      "cell_type": "code",
      "execution_count": null,
      "metadata": {
        "colab": {
          "base_uri": "https://localhost:8080/"
        },
        "id": "6p2QLEr576zk",
        "outputId": "e2a4a6aa-3c0c-4d1d-8405-1562c263baf4"
      },
      "outputs": [
        {
          "name": "stdout",
          "output_type": "stream",
          "text": [
            "39999800000\n",
            "./max_pairwise_product_long < input3.txt  81.88s user 0.23s system 99% cpu 1:22.55 total\n"
          ]
        }
      ],
      "source": [
        "!g++ max_pairwise_product_long.cpp -o max_pairwise_product_long\n",
        "!time ./max_pairwise_product_long < input3.txt"
      ]
    },
    {
      "cell_type": "markdown",
      "metadata": {
        "id": "AmZeB2wYjxy5"
      },
      "source": [
        "##### Calculate  the number of instructions executed by the algorithm as a function of n, add in each line a comment with the number of instructions that are executed in that line \n",
        "\n",
        "```cpp\n",
        " int main() {                         //N inst exec by line executed  \n",
        "   \n",
        "    int n;                            //1                      \n",
        "    std::cin >> n;                    //1\n",
        "                                              \n",
        "    std::vector<int> numbers(n);      //n    init vector\n",
        "    .\n",
        "    .\n",
        " }\n",
        "\n",
        "```"
      ]
    },
    {
      "cell_type": "code",
      "execution_count": null,
      "metadata": {
        "colab": {
          "base_uri": "https://localhost:8080/"
        },
        "id": "djGX3FL13g9b",
        "outputId": "270176eb-1660-419e-de67-2c8f8c3c7f74"
      },
      "outputs": [
        {
          "name": "stdout",
          "output_type": "stream",
          "text": [
            "Writing test_init_vectors.cpp\n"
          ]
        }
      ],
      "source": [
        "%%writefile test_init_vectors.cpp\n",
        "#include <iostream>\n",
        "#include <vector>\n",
        "#include <algorithm>\n",
        "int main() {                                                               \n",
        "    int n = 10;                                                                                                                            //1\n",
        "    std::vector<int> numbers(n);                                            \n",
        "    for (int i = 0; i < n; ++i) {                                           \n",
        "        std::cout << numbers[i];                                             \n",
        "    }\n",
        "\n",
        "    std::cout << \"\\n\";                       \n",
        "    return 0;                                                              \n",
        "}  "
      ]
    },
    {
      "cell_type": "code",
      "execution_count": null,
      "metadata": {
        "colab": {
          "base_uri": "https://localhost:8080/"
        },
        "id": "44gZcuE237-1",
        "outputId": "7f5f9c2a-bed0-4223-ee39-3290f70db610"
      },
      "outputs": [
        {
          "name": "stdout",
          "output_type": "stream",
          "text": [
            "0000000000\n"
          ]
        }
      ],
      "source": [
        "!g++ test_init_vectors.cpp -o test_init_vectors\n",
        "!./test_init_vectors"
      ]
    },
    {
      "cell_type": "code",
      "execution_count": null,
      "metadata": {
        "colab": {
          "base_uri": "https://localhost:8080/"
        },
        "id": "uG6Mv-Pwlkii",
        "outputId": "8b4b2a48-2fc3-4feb-81ab-088e183a49f5"
      },
      "outputs": [
        {
          "name": "stdout",
          "output_type": "stream",
          "text": [
            "Overwriting max_pairwise_product_long.cpp\n"
          ]
        }
      ],
      "source": [
        "%%writefile max_pairwise_product_long.cpp\n",
        "#include <iostream>\n",
        "#include <vector>\n",
        "#include <algorithm>\n",
        "\n",
        "long long MaxPairwiseProduct(const std::vector<int>& numbers) {              //N inst exec by line executed \n",
        "    long long max_product = 0LL;                                             //1                                          \n",
        "\t  long long aux_product = 0LL;                                             //1 \n",
        "    int n = numbers.size();                                                  //1 \n",
        "                                                                             \n",
        "    for (int first = 0; first < n; ++first) {                                //1+2n  \n",
        "        for (int second = first + 1; second < n; ++second) {                 //n + (n-1)n \n",
        "\t\t\t       aux_product =  (long long) numbers[first] * numbers[second];    //(n-1)n/2 \n",
        "            if (max_product < aux_product)  {                                //(n-1)n/2 \n",
        "\t\t\t\t        max_product = aux_product;                                   //[0, (n-1)n/2] \n",
        "             }\n",
        "        }\n",
        "    }\n",
        "                                                                             // -------------- \n",
        "    return max_product;                                                      // 4 + 3n + [2(n-1)n, 2.5 (n-1)n] \n",
        "}\n",
        "\n",
        "int main() {                                              //N inst exec by line executed \n",
        "    int n;                                                //1  \n",
        "    std::cin >> n;                                        //1\n",
        "    std::vector<int> numbers(n);                          //n\n",
        "    for (int i = 0; i < n; ++i) {                         //1 + 2n\n",
        "        std::cin >> numbers[i];                           //n\n",
        "    }\n",
        "\n",
        "    std::cout << MaxPairwiseProduct(numbers) << \"\\n\";     //1 + 1  + 4 + 3n + [2(n-1)n, 2.5 (n-1)n]\n",
        "    return 0;                                             // -------------- \n",
        "}                                                         // 9 + 7n + [2(n-1)n, 2.5 (n-1)n]\n"
      ]
    },
    {
      "cell_type": "markdown",
      "metadata": {
        "id": "0vTsUg8OwcHs"
      },
      "source": [
        "Count executed intructions in code and verify with inputs 1, 2 and 3"
      ]
    },
    {
      "cell_type": "code",
      "execution_count": null,
      "metadata": {
        "colab": {
          "base_uri": "https://localhost:8080/"
        },
        "id": "CuRKkqQc137V",
        "outputId": "58b72004-01f8-4734-96f8-5ff1a32cdd31"
      },
      "outputs": [
        {
          "name": "stdout",
          "output_type": "stream",
          "text": [
            "Writing max_pairwise_product_long_execints.cpp\n"
          ]
        }
      ],
      "source": [
        "%%writefile max_pairwise_product_long_execints.cpp\n",
        "#include <iostream>\n",
        "#include <vector>\n",
        "#include <algorithm>\n",
        "\n",
        "long long MaxPairwiseProduct(const std::vector<int>& numbers, long long &execints) {              //N inst exec by line executed \n",
        "    \n",
        "    long long m = 0LL;                                                       //1\n",
        "    \n",
        "    long long max_product = 0LL;                                             //1\n",
        "    execints++;\n",
        "\n",
        "\t  long long aux_product = 0LL;                                             //1\n",
        "    execints++;\n",
        "\n",
        "    int n = numbers.size();                                                  //1 \n",
        "    execints++;\n",
        "\n",
        "    execints++;                                                                         \n",
        "    for (int first = 0; first < n; ++first) {                                //1+2n  \n",
        "        execints += 2;\n",
        "\n",
        "        long long m = 0LL;\n",
        "\n",
        "        execints++;                                    \n",
        "        for (int second = first + 1; second < n; ++second) {                 //n+ (n-1)n \n",
        "            execints += 2;                                                \n",
        "\n",
        "\t\t\t      aux_product =  (long long) numbers[first] * numbers[second];    //(n-1)n/2 \n",
        "            execints++; \n",
        "\n",
        "            execints++; \n",
        "            if ( max_product < aux_product)  {                               //(n-1)n/2 \n",
        "                       \n",
        "\t\t\t\t        max_product = aux_product;                                   //[0, (n-1)n/2] \n",
        "                execints++; \n",
        "                m++;\n",
        "             }\n",
        "        }\n",
        "        if ( (first <= 10) || (n- first <= 10)) std::cout << m << \"\\n\";\n",
        "    }\n",
        "                                                                            // -------------- \n",
        "    return max_product;                                                     // 4 + 3n + [2(n-1)n, 2.5 (n-1)n] \n",
        "}\n",
        "\n",
        "int main() {                                                 //N inst exec by line executed \n",
        "    long long execints =0LL;\n",
        "\n",
        "    int n;                                                   //1\n",
        "    execints++;                                                              \n",
        "    \n",
        "    std::cin >> n;                                           //1\n",
        "    execints++;\n",
        "\n",
        "    std::vector<int> numbers(n);                             //n\n",
        "    execints += n;\n",
        "    \n",
        "    execints++;\n",
        "    for (int i = 0; i < n; ++i) {                            //1 + 2n\n",
        "        execints += 2;\n",
        "\n",
        "        std::cin >> numbers[i];\n",
        "        execints++;                                          //n\n",
        "    }\n",
        "    \n",
        "    //std::cout << MaxPairwiseProduct(numbers) << \"\\n\";      //1 + 1  + 4 + 3n + [2(n-1)n, 2.5 (n-1)n]\n",
        "\n",
        "    execints++;\n",
        "    int M = MaxPairwiseProduct(numbers,execints);\n",
        "\n",
        "    execints++;\n",
        "    std::cout <<  execints << \"\\n\";                       \n",
        "    return 0;                                                // -------------- \n",
        "}                                                            // 9 + 7n + [2(n-1)n, 2.5 (n-1)n]"
      ]
    },
    {
      "cell_type": "code",
      "execution_count": null,
      "metadata": {
        "colab": {
          "base_uri": "https://localhost:8080/"
        },
        "id": "Kuvm1C05ly2a",
        "outputId": "f8e2f872-e7d9-4732-acb4-5ffe2e6568d1"
      },
      "outputs": [
        {
          "name": "stdout",
          "output_type": "stream",
          "text": [
            "9\n",
            "5\n",
            "4\n",
            "3\n",
            "2\n",
            "2\n",
            "2\n",
            "2\n",
            "1\n",
            "0\n",
            "289\n",
            "2\n",
            "1\n",
            "2\n",
            "0\n",
            "0\n",
            "0\n",
            "116\n",
            "199999\n",
            "100000\n",
            "66667\n",
            "50000\n",
            "40000\n",
            "33334\n",
            "28572\n",
            "25000\n",
            "22223\n",
            "20000\n",
            "18182\n",
            "2\n",
            "2\n",
            "2\n",
            "2\n",
            "2\n",
            "2\n",
            "2\n",
            "2\n",
            "1\n",
            "0\n",
            "80003672077\n"
          ]
        }
      ],
      "source": [
        "!g++ max_pairwise_product_long_execints.cpp -o max_pairwise_product_long_execints\n",
        "!./max_pairwise_product_long_execints < input1.txt\n",
        "!./max_pairwise_product_long_execints < input2.txt\n",
        "!./max_pairwise_product_long_execints < input3.txt"
      ]
    },
    {
      "cell_type": "markdown",
      "metadata": {
        "id": "L_uaamxeAHK7"
      },
      "source": [
        "The number of instructions executed by the algooirithm with a list of size $n$ is  \n",
        "\n",
        "$$T = 9 + 7n + [2(n-1)n, 2.5 (n-1)n]$$\n",
        "\n",
        "It depends on the size of the lists and  the order of the list.\n",
        "\n",
        "For the input1.txt \n",
        "```\n",
        "10\n",
        "1 2 3 4 5 6 7 8 9 10\n",
        "```\n",
        "$$T = 9 + 7(10) + 2(9)(10) +  9 + 5 + 4 + 3 + 2 + 2 + 2 + 2 + 1 + 0  = 289 $$\n",
        "\n",
        "For the input2.txt \n",
        "```\n",
        "6\n",
        "1 3 200000 9 200000 23\n",
        "```\n",
        "$$T = 9 + 7(6) + 2(5)(6)  +  2 + 1 + 2 + 0 + 0 + 0 = 116 $$\n",
        "\n",
        "\n",
        "For the input3.txt that is the worst case (n=200000 and list in incresing order)\n",
        "\n",
        "```\n",
        "200000\n",
        "1 2 3 4 5 6 7 8 9 10 ... 199998 199999 200000\n",
        "```\n",
        "\n",
        "$$\n",
        "\\begin{array}{ll}\n",
        "T &= 9 + 7(200000) + (2)(199999)(200000)  + (199999 +\n",
        "100000 + 66667 +50000 \\cdots 2 + 2 + 1)\\\\\n",
        "&= 80003672077  \\\\\n",
        "  &< 9 + 7(200000) + (2.5)(199999)(200000) \\\\\n",
        "  & = 100000900009\n",
        "\\end{array}\n",
        "  $$"
      ]
    },
    {
      "cell_type": "markdown",
      "metadata": {
        "id": "NXW7QkoBL6xH"
      },
      "source": [
        "Calculate estimated time by instruction and number of instructions by second"
      ]
    },
    {
      "cell_type": "code",
      "execution_count": null,
      "metadata": {
        "colab": {
          "base_uri": "https://localhost:8080/"
        },
        "id": "pKqB3i7dIxnc",
        "outputId": "cec850f5-16e3-4cd6-bf9b-6f5f2fd7b076"
      },
      "outputs": [
        {
          "data": {
            "text/plain": [
              "1.5999265618308827e-09"
            ]
          },
          "execution_count": 36,
          "metadata": {},
          "output_type": "execute_result"
        }
      ],
      "source": [
        "# Estimated time by instruction\n",
        "\n",
        "128/80003672077 \n"
      ]
    },
    {
      "cell_type": "code",
      "execution_count": null,
      "metadata": {
        "colab": {
          "base_uri": "https://localhost:8080/"
        },
        "id": "18N1ouqeMhE1",
        "outputId": "d7d4d1bf-b899-4c01-8ecb-e30da3ae6468"
      },
      "outputs": [
        {
          "data": {
            "text/plain": [
              "625028688.1015625"
            ]
          },
          "execution_count": 37,
          "metadata": {},
          "output_type": "execute_result"
        }
      ],
      "source": [
        "# Estimated number of instructions by second\n",
        "\n",
        "1/(128/80003672077) "
      ]
    },
    {
      "cell_type": "markdown",
      "metadata": {
        "id": "CQufozXLNJwO"
      },
      "source": [
        "### Efficient solution"
      ]
    },
    {
      "cell_type": "markdown",
      "metadata": {
        "id": "nLcKBwbU0QsE"
      },
      "source": [
        "Add in each line a coment with the number of intstrcution that are executed in that line"
      ]
    },
    {
      "cell_type": "code",
      "execution_count": null,
      "metadata": {
        "id": "knls5Fh3NSt_",
        "outputId": "8b2a204c-b69e-4bab-947e-d1800f24ce70"
      },
      "outputs": [
        {
          "name": "stdout",
          "output_type": "stream",
          "text": [
            "Writing efficient_solution.cpp\n"
          ]
        }
      ],
      "source": [
        "%%writefile efficient_solution.cpp\n",
        "#include <iostream>\n",
        "#include <vector>\n",
        "#include <algorithm>\n",
        "\n",
        "long long MaxPairwiseProduct(const std::vector<int> &numbers)\n",
        "{\n",
        "    long long max_product = 0;   //1\n",
        "    int n = numbers.size();  //1\n",
        "    int index_max_1 = -1;   //1\n",
        "    int index_max_2 = -1;   //1\n",
        "\n",
        "    for (int i = 0; i < n; ++i)     //1+2n\n",
        "    {\n",
        "        int current = numbers[i];   //1\n",
        "        if (current > numbers[index_max_1])    //1\n",
        "        {\n",
        "            index_max_1 = i;    //1\n",
        "        }\n",
        "    }\n",
        "\n",
        "    for (int i = 0; i < n; ++i)     //1+2n\n",
        "    {\n",
        "        if (i != index_max_1)\n",
        "        {\n",
        "            int current = numbers[i];   //1\n",
        "            if (current > numbers[index_max_2])   //1\n",
        "            {\n",
        "                index_max_2 = i;   //1\n",
        "            }\n",
        "        }\n",
        "    }\n",
        "    max_product = (long long)numbers[index_max_1] * numbers[index_max_2];    //1\n",
        "    return max_product;     //1+1+1+1+(1+2n)+(1+1+1)n+(1+2n)+(1+1+1)(n-1)+1=10n+4\n",
        "}\n",
        "\n",
        "int main()  //N inst exec by line executed \n",
        "{\n",
        "    int n;  //1\n",
        "    std::cin >> n;  //1\n",
        "    std::vector<int> numbers(n);    //n\n",
        "    for (int i = 0; i < n; ++i)     //1+2n\n",
        "    {\n",
        "        std::cin >> numbers[i];     //1\n",
        "    }\n",
        "\n",
        "    std::cout << MaxPairwiseProduct(numbers) << \"\\n\"; // 1 + 10n+4 + 1 = 10n + 6\n",
        "    return 0; //    (4n+3) + (10n+6) = 14n+9\n",
        "}\n"
      ]
    },
    {
      "cell_type": "markdown",
      "metadata": {
        "id": "-JCijbWxNSii"
      },
      "source": [
        "Test with inputs 1 and 2\n",
        "\n"
      ]
    },
    {
      "cell_type": "code",
      "execution_count": null,
      "metadata": {
        "id": "TrTGAfqlNVXT",
        "outputId": "c6142e61-58dc-48fc-a3d3-bc75a4329ae4"
      },
      "outputs": [
        {
          "name": "stdout",
          "output_type": "stream",
          "text": [
            "90\n",
            "40000000000\n"
          ]
        }
      ],
      "source": [
        "!g++ efficient_solution.cpp -o efficient_solution\n",
        "!./efficient_solution < input1.txt\n",
        "!./efficient_solution < input2.txt"
      ]
    },
    {
      "cell_type": "markdown",
      "metadata": {
        "id": "PRX51wADNR8b"
      },
      "source": [
        "Test and time it with input 3"
      ]
    },
    {
      "cell_type": "code",
      "execution_count": null,
      "metadata": {
        "id": "v4z7-Is_NRt7",
        "outputId": "017acbc2-39b4-4bf3-ab54-67c6558e391e"
      },
      "outputs": [
        {
          "name": "stdout",
          "output_type": "stream",
          "text": [
            "39999800000\n",
            "./efficient_solution < input3.txt  0.38s user 0.00s system 98% cpu 0.392 total\n"
          ]
        }
      ],
      "source": [
        "!time ./efficient_solution < input3.txt"
      ]
    },
    {
      "cell_type": "markdown",
      "metadata": {
        "id": "rpdfs0_TNZJf"
      },
      "source": [
        "20 stress tests"
      ]
    },
    {
      "cell_type": "code",
      "execution_count": null,
      "metadata": {
        "id": "Lu4tYcKzNcTT",
        "outputId": "03eaf054-3181-4fee-a682-3b4e8fa0e926"
      },
      "outputs": [
        {
          "name": "stdout",
          "output_type": "stream",
          "text": [
            "Overwriting efficient_solution_stress_test.cpp\n"
          ]
        }
      ],
      "source": [
        "%%writefile efficient_solution_stress_test.cpp\n",
        "#include <iostream>\n",
        "#include <cstdlib>\n",
        "#include <vector>\n",
        "using namespace std;\n",
        "\n",
        "long long MaxPairwiseProduct(const std::vector<int> &numbers)\n",
        "{\n",
        "    long long max_product = 0;\n",
        "    int n = numbers.size();\n",
        "    int index_max_1 = -1;\n",
        "    int index_max_2 = -1;\n",
        "\n",
        "    for (int i = 0; i < n; ++i)\n",
        "    {\n",
        "        int current = numbers[i];\n",
        "        if (current > numbers[index_max_1])\n",
        "        {\n",
        "            index_max_1 = i;\n",
        "        }\n",
        "    }\n",
        "\n",
        "    for (int i = 0; i < n; ++i)\n",
        "    {\n",
        "        if (i != index_max_1)\n",
        "        {\n",
        "            int current = numbers[i];\n",
        "            if (current > numbers[index_max_2])\n",
        "            {\n",
        "                index_max_2 = i;\n",
        "            }\n",
        "        }\n",
        "    }\n",
        "    max_product = (long long)numbers[index_max_1] * numbers[index_max_2];\n",
        "    return max_product;\n",
        "}\n",
        "\n",
        "void coutInput(const std::vector<int> &numbers)\n",
        "{\n",
        "    int size = numbers.size();\n",
        "    cout << size << endl;\n",
        "    for (int i = 0; i < numbers.size(); ++i)\n",
        "    {\n",
        "        cout << numbers[i] << ' ';\n",
        "    }\n",
        "    cout << endl;\n",
        "}\n",
        "\n",
        "int main()\n",
        "{\n",
        "    srand((unsigned)time(NULL));\n",
        "\n",
        "    for (int j = 0; j < 20; ++j)\n",
        "    {\n",
        "        int n = 1 + rand() % 10;\n",
        "\n",
        "        vector<int> numbers(n);\n",
        "\n",
        "        for (int i = 0; i < n; ++i)\n",
        "        {\n",
        "            int new_number = 1 + rand() % 1000;\n",
        "            numbers[i] = new_number;\n",
        "        }\n",
        "\n",
        "        coutInput(numbers);\n",
        "\n",
        "        std::cout << MaxPairwiseProduct(numbers) << endl;\n",
        "    }\n",
        "    return 0;\n",
        "}"
      ]
    },
    {
      "cell_type": "markdown",
      "metadata": {
        "id": "L8U4151JNbxk"
      },
      "source": [
        "Count executed instructions in code and verify with inputs 1,2 and 3\n"
      ]
    },
    {
      "cell_type": "code",
      "execution_count": null,
      "metadata": {
        "id": "dh85RM8vNhFz",
        "outputId": "f51a7580-3349-4df6-a2ef-304c0d289c2a"
      },
      "outputs": [
        {
          "name": "stdout",
          "output_type": "stream",
          "text": [
            "Overwriting efficient_solution_count_instructions.cpp\n"
          ]
        }
      ],
      "source": [
        "%%writefile efficient_solution_count_instructions.cpp\n",
        "#include <iostream>\n",
        "#include <vector>\n",
        "#include <algorithm>\n",
        "\n",
        "long long MaxPairwiseProduct(const std::vector<int> &numbers, long long &execints)\n",
        "{\n",
        "    long long max_product = 0; // 1\n",
        "    execints++;\n",
        "    int n = numbers.size(); // 1\n",
        "    execints++;\n",
        "    int index_max_1 = -1; // 1\n",
        "    execints++;\n",
        "    int index_max_2 = -1; // 1\n",
        "    execints++;\n",
        "\n",
        "    execints++;\n",
        "    for (int i = 0; i < n; ++i) // 1+2n\n",
        "    {\n",
        "        execints += 2;\n",
        "\n",
        "        execints++;\n",
        "        int current = numbers[i]; // 1\n",
        "        execints++;\n",
        "        if (current > numbers[index_max_1]) // 1\n",
        "        {\n",
        "            execints++;\n",
        "            index_max_1 = i; // 1\n",
        "        }\n",
        "    }\n",
        "\n",
        "    execints++;\n",
        "    for (int i = 0; i < n; ++i) // 1+2n\n",
        "    {\n",
        "        execints += 2;\n",
        "\n",
        "        execints++;\n",
        "        if (i != index_max_1)\n",
        "        {\n",
        "            execints++;\n",
        "            int current = numbers[i];\n",
        "            // 1\n",
        "            execints++;\n",
        "            if (current > numbers[index_max_2]) // 1\n",
        "            {\n",
        "                index_max_2 = i; // 1\n",
        "                execints++;\n",
        "            }\n",
        "        }\n",
        "    }\n",
        "\n",
        "    execints++;\n",
        "    max_product = (long long)numbers[index_max_1] * numbers[index_max_2]; // 1\n",
        "    std::cout << \"#Instructions: \" << execints << std::endl;\n",
        "    return max_product; // 1+1+1+1+(1+2n)+(1+1+1)n+(1+2n)+(1+1+1)(n-1)+1=10n+4\n",
        "}\n",
        "\n",
        "int main() // N inst exec by line executed\n",
        "{\n",
        "    long long execints = 0LL;\n",
        "\n",
        "    int n; // 1\n",
        "    execints++;\n",
        "\n",
        "    std::cin >> n; // 1\n",
        "    execints++;\n",
        "\n",
        "    std::vector<int> numbers(n); // n\n",
        "    execints += n;\n",
        "\n",
        "    execints++;\n",
        "    for (int i = 0; i < n; ++i) // 1+2n\n",
        "    {\n",
        "        execints += 2;\n",
        "\n",
        "        std::cin >> numbers[i]; // 1\n",
        "        execints++;\n",
        "    }\n",
        "\n",
        "    execints += 2;\n",
        "    std::cout << MaxPairwiseProduct(numbers, execints) << \"\\n\"; // 1 + 10n+4 + 1 = 10n + 6\n",
        "    return 0;                                                   //    (4n+3) + (10n+6) = 14n+9\n",
        "}"
      ]
    },
    {
      "cell_type": "markdown",
      "metadata": {
        "id": "K6ybgCmpNygr"
      },
      "source": [
        "Calculate estimated time by instruction and number of instructions by second"
      ]
    },
    {
      "cell_type": "code",
      "execution_count": null,
      "metadata": {
        "id": "kwe3G1O3Nz1w",
        "outputId": "fabcdd2e-643a-473f-8b0c-3f636f4cd99b"
      },
      "outputs": [
        {
          "name": "stdout",
          "output_type": "stream",
          "text": [
            "1.2854240021811615e-07\n",
            "7779534.2105263155\n"
          ]
        }
      ],
      "source": [
        "time_by_instruction = 0.38/2956223\n",
        "instructions_by_second = 1/time_by_instruction\n",
        "print(time_by_instruction)\n",
        "print(instructions_by_second)"
      ]
    },
    {
      "cell_type": "markdown",
      "metadata": {
        "id": "sc9nOLQrfTm0"
      },
      "source": [
        "### Super efficient solution\n",
        "\n",
        "Whitout storing the list in memory and whitout calling a function, add in each line a coment with the number of intstrcution that are executed in that line "
      ]
    },
    {
      "cell_type": "code",
      "execution_count": null,
      "metadata": {
        "id": "hBLt_xBQLy8E",
        "outputId": "8cd2171f-6222-4687-becf-c5a85e148977"
      },
      "outputs": [
        {
          "name": "stdout",
          "output_type": "stream",
          "text": [
            "Overwriting super_efficient_solution.cpp\n"
          ]
        }
      ],
      "source": [
        "%%writefile super_efficient_solution.cpp\n",
        "#include <iostream>\n",
        "#include <vector>\n",
        "#include <algorithm>\n",
        "\n",
        "int main() // N inst exec by line executed\n",
        "{\n",
        "    int n;                       // 1\n",
        "    std::cin >> n;               // 1\n",
        "    int max1 = 0;\n",
        "    int max2 = 0;\n",
        "\n",
        "    for (int i = 0; i < n; ++i) // 1+2n\n",
        "    {\n",
        "        int current;\n",
        "        std::cin >> current; // 1\n",
        "        if (current > max1 || current > max2)\n",
        "        {\n",
        "            if (current > max1)\n",
        "            {\n",
        "                int t = max1;\n",
        "                max1 = current;\n",
        "                max2 = t;\n",
        "            }\n",
        "            else\n",
        "            {\n",
        "                max2 = current;\n",
        "            }\n",
        "        }\n",
        "    }\n",
        "\n",
        "    std::cout << (long long)max1 * max2 << \"\\n\";\n",
        "    return 0;\n",
        "}"
      ]
    },
    {
      "cell_type": "markdown",
      "metadata": {
        "id": "683gc3roHqzb"
      },
      "source": [
        "Test with inputs 1 and 2\n",
        "\n",
        "\n",
        " "
      ]
    },
    {
      "cell_type": "code",
      "execution_count": null,
      "metadata": {
        "id": "b7d4LA8OIc2_",
        "outputId": "902598aa-19f7-4139-d55c-f40be9062d08"
      },
      "outputs": [
        {
          "name": "stdout",
          "output_type": "stream",
          "text": [
            "90\n",
            "40000000000\n"
          ]
        }
      ],
      "source": [
        "!g++ super_efficient_solution.cpp -o super_efficient_solution\n",
        "!./super_efficient_solution < input1.txt\n",
        "!./super_efficient_solution < input2.txt"
      ]
    },
    {
      "cell_type": "markdown",
      "metadata": {
        "id": "36Ugn1odIeJz"
      },
      "source": [
        "Test and time it with input 3"
      ]
    },
    {
      "cell_type": "code",
      "execution_count": null,
      "metadata": {
        "id": "jDyMbCnxHqSN",
        "outputId": "48a7e1de-0ae5-480e-b2f2-ad3d028b531b"
      },
      "outputs": [
        {
          "name": "stdout",
          "output_type": "stream",
          "text": [
            "39999800000\n",
            "./super_efficient_solution < input3.txt  0.37s user 0.00s system 98% cpu 0.378 total\n"
          ]
        }
      ],
      "source": [
        "!time ./super_efficient_solution < input3.txt"
      ]
    },
    {
      "cell_type": "markdown",
      "metadata": {
        "id": "bhqiKQG6fjKM"
      },
      "source": [
        "20 stress tests "
      ]
    },
    {
      "cell_type": "code",
      "execution_count": null,
      "metadata": {
        "id": "2KsiXKhALzwm",
        "outputId": "75b05df9-a988-4bb2-c856-23ceb22bc160"
      },
      "outputs": [
        {
          "name": "stdout",
          "output_type": "stream",
          "text": [
            "Overwriting super_efficient_solution_stress_test.cpp\n"
          ]
        }
      ],
      "source": [
        "%%writefile super_efficient_solution_stress_test.cpp\n",
        "#include <iostream>\n",
        "#include <cstdlib>\n",
        "#include <vector>\n",
        "using namespace std;\n",
        "\n",
        "int main()\n",
        "{\n",
        "    srand((unsigned)time(NULL));\n",
        "\n",
        "    for (int j = 0; j < 20; ++j)\n",
        "    {\n",
        "        int n = 2 + rand() % 8;\n",
        "        cout << n << endl;\n",
        "\n",
        "        int max1 = 0;\n",
        "        int max2 = 0;\n",
        "\n",
        "        for (int i = 0; i < n; ++i)\n",
        "        {\n",
        "            int current = 1 + rand() % 1000;\n",
        "\n",
        "            cout << current << '\\t';\n",
        "\n",
        "            if (current > max1 || current > max2)\n",
        "            {\n",
        "                if (current > max1)\n",
        "                {\n",
        "                    int t = max1;\n",
        "                    max1 = current;\n",
        "                    max2 = t;\n",
        "                }\n",
        "                else\n",
        "                {\n",
        "                    max2 = current;\n",
        "                }\n",
        "            }\n",
        "        }\n",
        "        cout << endl;\n",
        "\n",
        "        cout << (long long)max1 * max2 << \"\\n\";\n",
        "    }\n",
        "    return 0;\n",
        "}"
      ]
    },
    {
      "cell_type": "markdown",
      "metadata": {
        "id": "fEXj8GHJH5p1"
      },
      "source": [
        "Count executed instructions in code and verify with inputs 1,2 and 3"
      ]
    },
    {
      "cell_type": "code",
      "execution_count": null,
      "metadata": {
        "id": "LF1DHjKXIAsF",
        "outputId": "d6577d2e-c368-4958-d921-bf6520efc287"
      },
      "outputs": [
        {
          "name": "stdout",
          "output_type": "stream",
          "text": [
            "Overwriting super_efficient_solution_count_instructions.cpp\n"
          ]
        }
      ],
      "source": [
        "%%writefile super_efficient_solution_count_instructions.cpp\n",
        "#include <iostream>\n",
        "#include <vector>\n",
        "#include <algorithm>\n",
        "\n",
        "int main() // N inst exec by line executed\n",
        "{\n",
        "    long long execints = 0LL;\n",
        "\n",
        "    execints++;\n",
        "    int n; // 1\n",
        "    execints++;\n",
        "    std::cin >> n; // 1\n",
        "    execints++;\n",
        "    int max1 = 0; // 1\n",
        "    execints++;\n",
        "    int max2 = 0; // 1\n",
        "\n",
        "    execints++;\n",
        "    for (int i = 0; i < n; ++i) // 1+2n\n",
        "    {\n",
        "        execints += 2;\n",
        "\n",
        "        execints++;\n",
        "        int current; // 1\n",
        "        execints++;\n",
        "        std::cin >> current; // 1\n",
        "        execints += 2;\n",
        "        if (current > max1 || current > max2) // 2\n",
        "        {\n",
        "            execints++;\n",
        "            if (current > max1) // 1\n",
        "            {\n",
        "                execints++;\n",
        "                int t = max1; // 1\n",
        "                execints++;\n",
        "                max1 = current; // 1\n",
        "                execints++;\n",
        "                max2 = t; // 1\n",
        "            }\n",
        "            else\n",
        "            {\n",
        "                execints++;\n",
        "                max2 = current; // 1\n",
        "            }\n",
        "        }\n",
        "    }\n",
        "\n",
        "    execints += 3;\n",
        "    std::cout << (long long)max1 * max2 << \"\\n\"; // 3\n",
        "    std::cout << \"#Instructions: \" << execints << std::endl;\n",
        "    return 0; // 1 + 1 + 1 + 1 + (1 + 2n) + (1 + 1 + 2 + 1 + 1 + 1 + 1)n + 3\n",
        "    // = 10n+8\n",
        "}"
      ]
    },
    {
      "cell_type": "code",
      "execution_count": null,
      "metadata": {
        "id": "SBtMAueCBuJ4",
        "outputId": "be581fd8-0edd-4fa7-cf99-399a055af074"
      },
      "outputs": [
        {
          "name": "stdout",
          "output_type": "stream",
          "text": [
            "90\n",
            "#Instructions: 108\n",
            "40000000000\n",
            "#Instructions: 60\n"
          ]
        }
      ],
      "source": [
        "!g++ super_efficient_solution_count_instructions.cpp -o super_efficient_solution_count_instructions\n",
        "!./super_efficient_solution_count_instructions < input1.txt\n",
        "!./super_efficient_solution_count_instructions < input2.txt"
      ]
    },
    {
      "cell_type": "code",
      "execution_count": null,
      "metadata": {
        "id": "2JKokZdIBuJ5",
        "outputId": "51857453-6059-4ec7-eb84-9ce9e6887db1"
      },
      "outputs": [
        {
          "name": "stdout",
          "output_type": "stream",
          "text": [
            "39999800000\n",
            "#Instructions: 2000008\n",
            "./super_efficient_solution_count_instructions < input3.txt  0.37s user 0.00s system 98% cpu 0.380 total\n"
          ]
        }
      ],
      "source": [
        "!time ./super_efficient_solution_count_instructions < input3.txt"
      ]
    },
    {
      "cell_type": "markdown",
      "metadata": {
        "id": "yae7sSm2IG9U"
      },
      "source": [
        "Calculate estimated time by instruction and number of instructions by second"
      ]
    },
    {
      "cell_type": "code",
      "execution_count": null,
      "metadata": {
        "id": "suouY7BYL2dz",
        "outputId": "8fa15671-72a3-4f8b-f200-356fe3560fa8"
      },
      "outputs": [
        {
          "name": "stdout",
          "output_type": "stream",
          "text": [
            "1.8499926000295997e-07\n",
            "5405427.027027028\n"
          ]
        }
      ],
      "source": [
        "time_by_instruction = 0.37/2000008\n",
        "instructions_by_second = 1/time_by_instruction\n",
        "print(time_by_instruction)\n",
        "print(instructions_by_second)"
      ]
    },
    {
      "cell_type": "markdown",
      "metadata": {
        "id": "LkVxxlhl9H98"
      },
      "source": [
        "# Codeforces problem https://codeforces.com/contest/1619/problem/A \n",
        "\n",
        "Solve the problem in Colab, submit the solution to Codeforces and add a screenshoot of the submission."
      ]
    },
    {
      "cell_type": "code",
      "execution_count": null,
      "metadata": {
        "id": "ySwxoa0uBuJ5",
        "outputId": "2c882580-3ed2-44f0-eaa7-86ac7743bb0f"
      },
      "outputs": [
        {
          "name": "stdout",
          "output_type": "stream",
          "text": [
            "Overwriting codeforcesProblem.cpp\n"
          ]
        }
      ],
      "source": [
        "%%writefile codeforcesProblem.cpp\n",
        "#include <iostream>\n",
        "#include <string>\n",
        "using namespace std;\n",
        "\n",
        "bool checkSquareWord(string &s)\n",
        "{\n",
        "    int length = s.length();\n",
        "    int halfLength = length / 2;\n",
        "    if (length % 2 == 1)\n",
        "    {\n",
        "        return false;\n",
        "    }\n",
        "    for (int i = 0; i < halfLength; i++)\n",
        "    {\n",
        "        if (s[i] != s[i + halfLength])\n",
        "        {\n",
        "            return false;\n",
        "        }\n",
        "    }\n",
        "    return true;\n",
        "}\n",
        "\n",
        "int main()\n",
        "{\n",
        "    int n = 0;\n",
        "    cin >> n;\n",
        "\n",
        "    for (int i = 0; i < n; ++i)\n",
        "    {\n",
        "        string s;\n",
        "        cin >> s;\n",
        "        if (checkSquareWord(s))\n",
        "        {\n",
        "            cout << \"YES\" << endl;\n",
        "        }\n",
        "        else\n",
        "        {\n",
        "            cout << \"NO\" << endl;\n",
        "        }\n",
        "    }\n",
        "\n",
        "    return 0;\n",
        "}"
      ]
    },
    {
      "cell_type": "code",
      "execution_count": null,
      "metadata": {
        "id": "zhz0-xJqBuJ5",
        "outputId": "60071f69-7a34-42ad-a9e0-120f1a0bcf44"
      },
      "outputs": [
        {
          "name": "stdout",
          "output_type": "stream",
          "text": [
            "Writing inputCodeforces.txt\n"
          ]
        }
      ],
      "source": [
        "%%writefile inputCodeforces.txt\n",
        "10\n",
        "a\n",
        "aa\n",
        "aaa\n",
        "aaaa\n",
        "abab\n",
        "abcabc\n",
        "abacaba\n",
        "xxyy\n",
        "xyyx\n",
        "xyxy"
      ]
    },
    {
      "cell_type": "code",
      "execution_count": null,
      "metadata": {
        "id": "vbMGWNVFBuJ5",
        "outputId": "58e0a72b-392c-4fae-acf2-d7efea35daa2"
      },
      "outputs": [
        {
          "name": "stdout",
          "output_type": "stream",
          "text": [
            "NO\n",
            "YES\n",
            "NO\n",
            "YES\n",
            "YES\n",
            "YES\n",
            "NO\n",
            "NO\n",
            "NO\n",
            "YES\n"
          ]
        }
      ],
      "source": [
        "!g++ codeforcesProblem.cpp -o codeforcesProblem\n",
        "!./codeforcesProblem < inputCodeforces.txt"
      ]
    },
    {
      "cell_type": "markdown",
      "source": [
        "![codeforces.png](data:image/png;base64,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)"
      ],
      "metadata": {
        "id": "Fi4S0fraCNNY"
      }
    }
  ],
  "metadata": {
    "colab": {
      "provenance": []
    },
    "kernelspec": {
      "display_name": "Python 3",
      "name": "python3"
    },
    "language_info": {
      "name": "python",
      "version": "3.8.16"
    }
  },
  "nbformat": 4,
  "nbformat_minor": 0
}